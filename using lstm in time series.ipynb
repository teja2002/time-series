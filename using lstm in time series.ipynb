{
 "cells": [
  {
   "cell_type": "code",
   "execution_count": 1,
   "metadata": {},
   "outputs": [
    {
     "name": "stdout",
     "output_type": "stream",
     "text": [
      "2.3.1\n"
     ]
    }
   ],
   "source": [
    "import tensorflow as tf\n",
    "import numpy as np\n",
    "import matplotlib.pyplot as plt\n",
    "print(tf.__version__)"
   ]
  },
  {
   "cell_type": "code",
   "execution_count": 2,
   "metadata": {},
   "outputs": [],
   "source": [
    "def plot_series(time, series, format=\"-\", start=0, end=None):\n",
    "    plt.plot(time[start:end], series[start:end], format)\n",
    "    plt.xlabel(\"Time\")\n",
    "    plt.ylabel(\"Value\")\n",
    "    plt.grid(True)\n"
   ]
  },
  {
   "cell_type": "code",
   "execution_count": 3,
   "metadata": {},
   "outputs": [],
   "source": [
    "def trend(time, slope=0):\n",
    "    return slope * time"
   ]
  },
  {
   "cell_type": "code",
   "execution_count": 4,
   "metadata": {},
   "outputs": [],
   "source": [
    "def seasonal_pattern(season_time):\n",
    "    \"\"\"Just an arbitrary pattern, you can change it if you wish\"\"\"\n",
    "    return np.where(season_time < 0.4,\n",
    "                    np.cos(season_time * 2 * np.pi),\n",
    "                    1 / np.exp(3 * season_time))"
   ]
  },
  {
   "cell_type": "code",
   "execution_count": 5,
   "metadata": {},
   "outputs": [],
   "source": [
    "def seasonality(time, period, amplitude=1, phase=0):\n",
    "    \"\"\"Repeats the same pattern at each period\"\"\"\n",
    "    season_time = ((time + phase) % period) / period\n",
    "    return amplitude * seasonal_pattern(season_time)"
   ]
  },
  {
   "cell_type": "code",
   "execution_count": 6,
   "metadata": {},
   "outputs": [],
   "source": [
    "def noise(time, noise_level=1, seed=None):\n",
    "    rnd = np.random.RandomState(seed)\n",
    "    return rnd.randn(len(time)) * noise_level"
   ]
  },
  {
   "cell_type": "code",
   "execution_count": 7,
   "metadata": {},
   "outputs": [],
   "source": [
    "time = np.arange(4 * 365 + 1, dtype=\"float32\")\n",
    "baseline = 10\n",
    "series = trend(time, 0.1)  \n",
    "baseline = 10\n",
    "amplitude = 40\n",
    "slope = 0.05\n",
    "noise_level = 5"
   ]
  },
  {
   "cell_type": "code",
   "execution_count": 8,
   "metadata": {},
   "outputs": [],
   "source": [
    "# Create the series\n",
    "series = baseline + trend(time, slope) + seasonality(time, period=365, amplitude=amplitude)\n",
    "# Update with noise\n",
    "series += noise(time, noise_level, seed=42)"
   ]
  },
  {
   "cell_type": "code",
   "execution_count": 9,
   "metadata": {},
   "outputs": [],
   "source": [
    "split_time = 1000\n",
    "time_train = time[:split_time]\n",
    "x_train = series[:split_time]\n",
    "time_valid = time[split_time:]\n",
    "x_valid = series[split_time:]"
   ]
  },
  {
   "cell_type": "code",
   "execution_count": 10,
   "metadata": {},
   "outputs": [],
   "source": [
    "window_size = 20\n",
    "batch_size = 32\n",
    "shuffle_buffer_size = 1000"
   ]
  },
  {
   "cell_type": "code",
   "execution_count": 11,
   "metadata": {},
   "outputs": [],
   "source": [
    "def windowed_dataset(series, window_size, batch_size, shuffle_buffer):\n",
    "  dataset = tf.data.Dataset.from_tensor_slices(series)\n",
    "  dataset = dataset.window(window_size + 1, shift=1, drop_remainder=True)\n",
    "  dataset = dataset.flat_map(lambda window: window.batch(window_size + 1))\n",
    "  dataset = dataset.shuffle(shuffle_buffer).map(lambda window: (window[:-1], window[-1]))\n",
    "  dataset = dataset.batch(batch_size).prefetch(1)\n",
    "  return dataset"
   ]
  },
  {
   "cell_type": "code",
   "execution_count": 12,
   "metadata": {},
   "outputs": [],
   "source": [
    "tf.keras.backend.clear_session()\n",
    "tf.random.set_seed(51)\n",
    "np.random.seed(51)"
   ]
  },
  {
   "cell_type": "code",
   "execution_count": 13,
   "metadata": {},
   "outputs": [],
   "source": [
    "tf.keras.backend.clear_session()\n",
    "dataset = windowed_dataset(x_train, window_size, batch_size, shuffle_buffer_size)"
   ]
  },
  {
   "cell_type": "code",
   "execution_count": 14,
   "metadata": {},
   "outputs": [],
   "source": [
    "model = tf.keras.models.Sequential([\n",
    "  tf.keras.layers.Lambda(lambda x: tf.expand_dims(x, axis=-1),\n",
    "                      input_shape=[None]),\n",
    "    tf.keras.layers.Bidirectional(tf.keras.layers.LSTM(32, return_sequences=True)),\n",
    "  tf.keras.layers.Bidirectional(tf.keras.layers.LSTM(32)),\n",
    "  tf.keras.layers.Dense(1),\n",
    "  tf.keras.layers.Lambda(lambda x: x * 100.0)\n",
    "])"
   ]
  },
  {
   "cell_type": "code",
   "execution_count": 15,
   "metadata": {
    "scrolled": false
   },
   "outputs": [
    {
     "name": "stdout",
     "output_type": "stream",
     "text": [
      "Epoch 1/100\n",
      "31/31 [==============================] - 0s 14ms/step - loss: 21.5167 - mae: 22.0115\n",
      "Epoch 2/100\n",
      "31/31 [==============================] - 0s 13ms/step - loss: 21.1522 - mae: 21.6444\n",
      "Epoch 3/100\n",
      "31/31 [==============================] - 0s 10ms/step - loss: 20.7302 - mae: 21.2236\n",
      "Epoch 4/100\n",
      "31/31 [==============================] - 0s 10ms/step - loss: 20.2834 - mae: 20.7757\n",
      "Epoch 5/100\n",
      "31/31 [==============================] - 0s 10ms/step - loss: 19.7897 - mae: 20.2855\n",
      "Epoch 6/100\n",
      "31/31 [==============================] - 0s 11ms/step - loss: 19.1782 - mae: 19.6696\n",
      "Epoch 7/100\n",
      "31/31 [==============================] - 0s 12ms/step - loss: 18.2410 - mae: 18.7333\n",
      "Epoch 8/100\n",
      "31/31 [==============================] - 0s 11ms/step - loss: 17.4825 - mae: 17.9748\n",
      "Epoch 9/100\n",
      "31/31 [==============================] - 0s 10ms/step - loss: 17.1597 - mae: 17.6529\n",
      "Epoch 10/100\n",
      "31/31 [==============================] - 0s 11ms/step - loss: 16.8547 - mae: 17.3463\n",
      "Epoch 11/100\n",
      "31/31 [==============================] - 0s 12ms/step - loss: 16.5533 - mae: 17.0471\n",
      "Epoch 12/100\n",
      "31/31 [==============================] - 0s 11ms/step - loss: 16.2565 - mae: 16.7524\n",
      "Epoch 13/100\n",
      "31/31 [==============================] - 0s 13ms/step - loss: 15.9629 - mae: 16.4598\n",
      "Epoch 14/100\n",
      "31/31 [==============================] - 0s 11ms/step - loss: 15.6593 - mae: 16.1548\n",
      "Epoch 15/100\n",
      "31/31 [==============================] - 0s 11ms/step - loss: 15.3713 - mae: 15.8652\n",
      "Epoch 16/100\n",
      "31/31 [==============================] - 0s 13ms/step - loss: 15.0752 - mae: 15.5697\n",
      "Epoch 17/100\n",
      "31/31 [==============================] - 0s 10ms/step - loss: 14.7905 - mae: 15.2869\n",
      "Epoch 18/100\n",
      "31/31 [==============================] - 0s 13ms/step - loss: 14.5229 - mae: 15.0178\n",
      "Epoch 19/100\n",
      "31/31 [==============================] - 0s 12ms/step - loss: 14.2707 - mae: 14.7636\n",
      "Epoch 20/100\n",
      "31/31 [==============================] - 0s 11ms/step - loss: 14.0293 - mae: 14.5217\n",
      "Epoch 21/100\n",
      "31/31 [==============================] - 0s 12ms/step - loss: 13.8191 - mae: 14.3135\n",
      "Epoch 22/100\n",
      "31/31 [==============================] - 0s 12ms/step - loss: 13.6084 - mae: 14.1032\n",
      "Epoch 23/100\n",
      "31/31 [==============================] - 0s 14ms/step - loss: 13.4096 - mae: 13.9038\n",
      "Epoch 24/100\n",
      "31/31 [==============================] - 0s 14ms/step - loss: 13.1859 - mae: 13.6794\n",
      "Epoch 25/100\n",
      "31/31 [==============================] - 0s 12ms/step - loss: 12.9819 - mae: 13.4747\n",
      "Epoch 26/100\n",
      "31/31 [==============================] - 0s 11ms/step - loss: 12.7278 - mae: 13.2184\n",
      "Epoch 27/100\n",
      "31/31 [==============================] - 0s 12ms/step - loss: 12.4886 - mae: 12.9799\n",
      "Epoch 28/100\n",
      "31/31 [==============================] - 0s 11ms/step - loss: 12.3459 - mae: 12.8362\n",
      "Epoch 29/100\n",
      "31/31 [==============================] - 0s 11ms/step - loss: 11.9127 - mae: 12.4017\n",
      "Epoch 30/100\n",
      "31/31 [==============================] - 0s 12ms/step - loss: 11.5934 - mae: 12.0835\n",
      "Epoch 31/100\n",
      "31/31 [==============================] - 0s 11ms/step - loss: 11.2859 - mae: 11.7771\n",
      "Epoch 32/100\n",
      "31/31 [==============================] - 0s 11ms/step - loss: 11.3520 - mae: 11.8418\n",
      "Epoch 33/100\n",
      "31/31 [==============================] - 0s 11ms/step - loss: 10.5232 - mae: 11.0140\n",
      "Epoch 34/100\n",
      "31/31 [==============================] - 0s 12ms/step - loss: 10.5436 - mae: 11.0314\n",
      "Epoch 35/100\n",
      "31/31 [==============================] - 0s 12ms/step - loss: 10.0794 - mae: 10.5635\n",
      "Epoch 36/100\n",
      "31/31 [==============================] - 0s 15ms/step - loss: 9.3547 - mae: 9.8398\n",
      "Epoch 37/100\n",
      "31/31 [==============================] - 0s 12ms/step - loss: 8.8746 - mae: 9.3594\n",
      "Epoch 38/100\n",
      "31/31 [==============================] - 0s 13ms/step - loss: 9.6221 - mae: 10.1143\n",
      "Epoch 39/100\n",
      "31/31 [==============================] - 0s 12ms/step - loss: 9.5208 - mae: 10.0051\n",
      "Epoch 40/100\n",
      "31/31 [==============================] - 0s 11ms/step - loss: 8.8958 - mae: 9.3824\n",
      "Epoch 41/100\n",
      "31/31 [==============================] - 0s 12ms/step - loss: 8.3915 - mae: 8.8770\n",
      "Epoch 42/100\n",
      "31/31 [==============================] - 0s 12ms/step - loss: 7.9941 - mae: 8.4779\n",
      "Epoch 43/100\n",
      "31/31 [==============================] - 0s 12ms/step - loss: 7.6699 - mae: 8.1537\n",
      "Epoch 44/100\n",
      "31/31 [==============================] - 0s 12ms/step - loss: 7.4291 - mae: 7.9147\n",
      "Epoch 45/100\n",
      "31/31 [==============================] - 0s 12ms/step - loss: 7.2072 - mae: 7.6923\n",
      "Epoch 46/100\n",
      "31/31 [==============================] - 1s 17ms/step - loss: 6.9600 - mae: 7.4430\n",
      "Epoch 47/100\n",
      "31/31 [==============================] - 1s 16ms/step - loss: 6.7243 - mae: 7.2084\n",
      "Epoch 48/100\n",
      "31/31 [==============================] - 0s 13ms/step - loss: 6.6002 - mae: 7.0824\n",
      "Epoch 49/100\n",
      "31/31 [==============================] - 0s 12ms/step - loss: 6.2335 - mae: 6.7109\n",
      "Epoch 50/100\n",
      "31/31 [==============================] - 0s 12ms/step - loss: 6.0558 - mae: 6.5328\n",
      "Epoch 51/100\n",
      "31/31 [==============================] - 0s 12ms/step - loss: 5.9275 - mae: 6.4071\n",
      "Epoch 52/100\n",
      "31/31 [==============================] - 0s 15ms/step - loss: 5.7928 - mae: 6.2748\n",
      "Epoch 53/100\n",
      "31/31 [==============================] - 0s 15ms/step - loss: 5.6466 - mae: 6.1265\n",
      "Epoch 54/100\n",
      "31/31 [==============================] - 0s 12ms/step - loss: 5.5375 - mae: 6.0130\n",
      "Epoch 55/100\n",
      "31/31 [==============================] - 0s 14ms/step - loss: 5.4182 - mae: 5.8896\n",
      "Epoch 56/100\n",
      "31/31 [==============================] - 0s 14ms/step - loss: 5.5647 - mae: 6.0364\n",
      "Epoch 57/100\n",
      "31/31 [==============================] - 0s 15ms/step - loss: 5.3120 - mae: 5.7889\n",
      "Epoch 58/100\n",
      "31/31 [==============================] - 0s 14ms/step - loss: 5.3450 - mae: 5.8278\n",
      "Epoch 59/100\n",
      "31/31 [==============================] - 0s 12ms/step - loss: 5.1927 - mae: 5.6722\n",
      "Epoch 60/100\n",
      "31/31 [==============================] - 0s 12ms/step - loss: 5.0903 - mae: 5.5652\n",
      "Epoch 61/100\n",
      "31/31 [==============================] - 0s 12ms/step - loss: 5.3944 - mae: 5.8722\n",
      "Epoch 62/100\n",
      "31/31 [==============================] - 0s 14ms/step - loss: 5.1757 - mae: 5.6554\n",
      "Epoch 63/100\n",
      "31/31 [==============================] - 0s 13ms/step - loss: 5.1415 - mae: 5.6178\n",
      "Epoch 64/100\n",
      "31/31 [==============================] - 0s 12ms/step - loss: 4.8590 - mae: 5.3323\n",
      "Epoch 65/100\n",
      "31/31 [==============================] - 0s 13ms/step - loss: 4.9965 - mae: 5.4755\n",
      "Epoch 66/100\n",
      "31/31 [==============================] - 0s 12ms/step - loss: 5.3798 - mae: 5.8589\n",
      "Epoch 67/100\n",
      "31/31 [==============================] - 0s 13ms/step - loss: 6.0389 - mae: 6.5242\n",
      "Epoch 68/100\n",
      "31/31 [==============================] - 0s 14ms/step - loss: 5.2487 - mae: 5.7252\n",
      "Epoch 69/100\n",
      "31/31 [==============================] - 0s 14ms/step - loss: 5.5025 - mae: 5.9853\n",
      "Epoch 70/100\n",
      "31/31 [==============================] - 0s 14ms/step - loss: 5.1725 - mae: 5.6539\n",
      "Epoch 71/100\n",
      "31/31 [==============================] - 0s 15ms/step - loss: 5.6258 - mae: 6.1036\n",
      "Epoch 72/100\n",
      "31/31 [==============================] - 0s 15ms/step - loss: 5.2213 - mae: 5.6963\n",
      "Epoch 73/100\n",
      "31/31 [==============================] - 0s 15ms/step - loss: 5.9186 - mae: 6.4005\n",
      "Epoch 74/100\n",
      "31/31 [==============================] - 0s 13ms/step - loss: 6.1640 - mae: 6.6490\n",
      "Epoch 75/100\n",
      "31/31 [==============================] - 0s 13ms/step - loss: 6.7896 - mae: 7.2732\n",
      "Epoch 76/100\n",
      "31/31 [==============================] - 0s 13ms/step - loss: 5.2215 - mae: 5.7012\n",
      "Epoch 77/100\n",
      "31/31 [==============================] - 0s 12ms/step - loss: 5.5952 - mae: 6.0767\n",
      "Epoch 78/100\n",
      "31/31 [==============================] - 0s 15ms/step - loss: 5.3833 - mae: 5.8619\n",
      "Epoch 79/100\n",
      "31/31 [==============================] - 0s 11ms/step - loss: 5.3766 - mae: 5.8558\n",
      "Epoch 80/100\n",
      "31/31 [==============================] - 0s 11ms/step - loss: 5.1743 - mae: 5.6515\n",
      "Epoch 81/100\n",
      "31/31 [==============================] - 0s 13ms/step - loss: 7.7402 - mae: 8.2278\n",
      "Epoch 82/100\n",
      "31/31 [==============================] - 0s 13ms/step - loss: 6.5676 - mae: 7.0543\n",
      "Epoch 83/100\n",
      "31/31 [==============================] - 0s 15ms/step - loss: 5.2949 - mae: 5.7732\n",
      "Epoch 84/100\n",
      "31/31 [==============================] - 0s 14ms/step - loss: 8.4161 - mae: 8.9039\n",
      "Epoch 85/100\n"
     ]
    },
    {
     "name": "stdout",
     "output_type": "stream",
     "text": [
      "31/31 [==============================] - ETA: 0s - loss: 6.5542 - mae: 7.038 - 0s 11ms/step - loss: 6.5542 - mae: 7.0384\n",
      "Epoch 86/100\n",
      "31/31 [==============================] - 0s 12ms/step - loss: 7.0101 - mae: 7.4949\n",
      "Epoch 87/100\n",
      "31/31 [==============================] - 0s 12ms/step - loss: 6.6498 - mae: 7.1338\n",
      "Epoch 88/100\n",
      "31/31 [==============================] - 0s 11ms/step - loss: 8.1959 - mae: 8.6816\n",
      "Epoch 89/100\n",
      "31/31 [==============================] - 0s 13ms/step - loss: 8.8122 - mae: 9.3028\n",
      "Epoch 90/100\n",
      "31/31 [==============================] - 0s 12ms/step - loss: 7.8979 - mae: 8.3864\n",
      "Epoch 91/100\n",
      "31/31 [==============================] - 0s 12ms/step - loss: 7.4111 - mae: 7.8956\n",
      "Epoch 92/100\n",
      "31/31 [==============================] - 0s 11ms/step - loss: 6.4151 - mae: 6.8966\n",
      "Epoch 93/100\n",
      "31/31 [==============================] - 0s 11ms/step - loss: 6.6464 - mae: 7.1323\n",
      "Epoch 94/100\n",
      "31/31 [==============================] - 0s 11ms/step - loss: 11.8256 - mae: 12.3184\n",
      "Epoch 95/100\n",
      "31/31 [==============================] - 0s 14ms/step - loss: 8.7903 - mae: 9.2771\n",
      "Epoch 96/100\n",
      "31/31 [==============================] - 0s 11ms/step - loss: 10.8334 - mae: 11.3246\n",
      "Epoch 97/100\n",
      "31/31 [==============================] - 0s 12ms/step - loss: 8.6953 - mae: 9.1809\n",
      "Epoch 98/100\n",
      "31/31 [==============================] - 0s 12ms/step - loss: 9.4949 - mae: 9.9823\n",
      "Epoch 99/100\n",
      "31/31 [==============================] - 0s 12ms/step - loss: 15.3091 - mae: 15.8034\n",
      "Epoch 100/100\n",
      "31/31 [==============================] - 0s 12ms/step - loss: 11.6402 - mae: 12.1332\n"
     ]
    }
   ],
   "source": [
    "lr_schedule = tf.keras.callbacks.LearningRateScheduler(\n",
    "    lambda epoch: 1e-8 * 10**(epoch / 20))\n",
    "optimizer = tf.keras.optimizers.SGD(lr=1e-8, momentum=0.9)\n",
    "model.compile(loss=tf.keras.losses.Huber(),\n",
    "              optimizer=optimizer,\n",
    "              metrics=[\"mae\"])\n",
    "history = model.fit(dataset, epochs=100, callbacks=[lr_schedule])"
   ]
  },
  {
   "cell_type": "code",
   "execution_count": 16,
   "metadata": {},
   "outputs": [
    {
     "data": {
      "text/plain": [
       "(1e-08, 0.0001, 0.0, 30.0)"
      ]
     },
     "execution_count": 16,
     "metadata": {},
     "output_type": "execute_result"
    },
    {
     "data": {
      "image/png": "[encoded data removed]",
      "text/plain": [
       "<Figure size 432x288 with 1 Axes>"
      ]
     },
     "metadata": {
      "needs_background": "light"
     },
     "output_type": "display_data"
    }
   ],
   "source": [
    "plt.semilogx(history.history[\"lr\"], history.history[\"loss\"])\n",
    "plt.axis([1e-8, 1e-4, 0, 30])"
   ]
  },
  {
   "cell_type": "code",
   "execution_count": 17,
   "metadata": {},
   "outputs": [],
   "source": [
    "tf.keras.backend.clear_session()\n",
    "tf.random.set_seed(51)\n",
    "np.random.seed(51)\n",
    "\n",
    "tf.keras.backend.clear_session()\n",
    "dataset = windowed_dataset(x_train, window_size, batch_size, shuffle_buffer_size)\n",
    "\n",
    "model = tf.keras.models.Sequential([\n",
    "  tf.keras.layers.Lambda(lambda x: tf.expand_dims(x, axis=-1),\n",
    "                      input_shape=[None]),\n",
    "   tf.keras.layers.Bidirectional(tf.keras.layers.LSTM(32, return_sequences=True)),\n",
    "  tf.keras.layers.Bidirectional(tf.keras.layers.LSTM(32)),\n",
    "  tf.keras.layers.Dense(1),\n",
    "  tf.keras.layers.Lambda(lambda x: x * 100.0)\n",
    "])\n",
    "\n",
    "\n",
    "model.compile(loss=\"mse\", optimizer=tf.keras.optimizers.SGD(lr=1e-5, momentum=0.9),metrics=[\"mae\"])\n",
    "history = model.fit(dataset,epochs=500,verbose=0)"
   ]
  },
  {
   "cell_type": "code",
   "execution_count": 18,
   "metadata": {},
   "outputs": [
    {
     "data": {
      "image/png": "[encoded data removed]",
      "text/plain": [
       "<Figure size 720x432 with 1 Axes>"
      ]
     },
     "metadata": {
      "needs_background": "light"
     },
     "output_type": "display_data"
    }
   ],
   "source": [
    "forecast = []\n",
    "results = []\n",
    "for time in range(len(series) - window_size):\n",
    "  forecast.append(model.predict(series[time:time + window_size][np.newaxis]))\n",
    "\n",
    "forecast = forecast[split_time-window_size:]\n",
    "results = np.array(forecast)[:, 0, 0]\n",
    "\n",
    "\n",
    "plt.figure(figsize=(10, 6))\n",
    "\n",
    "plot_series(time_valid, x_valid)\n",
    "plot_series(time_valid, results)"
   ]
  },
  {
   "cell_type": "code",
   "execution_count": 19,
   "metadata": {},
   "outputs": [
    {
     "data": {
      "text/plain": [
       "5.6518984"
      ]
     },
     "execution_count": 19,
     "metadata": {},
     "output_type": "execute_result"
    }
   ],
   "source": [
    "tf.keras.metrics.mean_absolute_error(x_valid, results).numpy()"
   ]
  },
  {
   "cell_type": "code",
   "execution_count": 20,
   "metadata": {},
   "outputs": [
    {
     "data": {
      "text/plain": [
       "<Figure size 432x288 with 0 Axes>"
      ]
     },
     "execution_count": 20,
     "metadata": {},
     "output_type": "execute_result"
    },
    {
     "data": {
      "image/png": "[encoded data removed]",
      "text/plain": [
       "<Figure size 432x288 with 1 Axes>"
      ]
     },
     "metadata": {
      "needs_background": "light"
     },
     "output_type": "display_data"
    },
    {
     "data": {
      "image/png": "[encoded data removed]",
      "text/plain": [
       "<Figure size 432x288 with 1 Axes>"
      ]
     },
     "metadata": {
      "needs_background": "light"
     },
     "output_type": "display_data"
    },
    {
     "data": {
      "text/plain": [
       "<Figure size 432x288 with 0 Axes>"
      ]
     },
     "metadata": {},
     "output_type": "display_data"
    }
   ],
   "source": [
    "import matplotlib.image  as mpimg\n",
    "import matplotlib.pyplot as plt\n",
    "\n",
    "#-----------------------------------------------------------\n",
    "# Retrieve a list of list results on training and test data\n",
    "# sets for each training epoch\n",
    "#-----------------------------------------------------------\n",
    "mae=history.history['mae']\n",
    "loss=history.history['loss']\n",
    "\n",
    "epochs=range(len(loss)) # Get number of epochs\n",
    "\n",
    "#------------------------------------------------\n",
    "# Plot MAE and Loss\n",
    "#------------------------------------------------\n",
    "plt.plot(epochs, mae, 'r')\n",
    "plt.plot(epochs, loss, 'b')\n",
    "plt.title('MAE and Loss')\n",
    "plt.xlabel(\"Epochs\")\n",
    "plt.ylabel(\"Accuracy\")\n",
    "plt.legend([\"MAE\", \"Loss\"])\n",
    "\n",
    "plt.figure()\n",
    "\n",
    "epochs_zoom = epochs[200:]\n",
    "mae_zoom = mae[200:]\n",
    "loss_zoom = loss[200:]\n",
    "\n",
    "#------------------------------------------------\n",
    "# Plot Zoomed MAE and Loss\n",
    "#------------------------------------------------\n",
    "plt.plot(epochs_zoom, mae_zoom, 'r')\n",
    "plt.plot(epochs_zoom, loss_zoom, 'b')\n",
    "plt.title('MAE and Loss')\n",
    "plt.xlabel(\"Epochs\")\n",
    "plt.ylabel(\"Accuracy\")\n",
    "plt.legend([\"MAE\", \"Loss\"])\n",
    "\n",
    "plt.figure()"
   ]
  },
  {
   "cell_type": "code",
   "execution_count": 21,
   "metadata": {},
   "outputs": [
    {
     "data": {
      "text/plain": [
       "<tensorflow.python.keras.callbacks.History at 0x2b83317c7f0>"
      ]
     },
     "execution_count": 21,
     "metadata": {},
     "output_type": "execute_result"
    }
   ],
   "source": [
    "tf.keras.backend.clear_session()\n",
    "dataset = windowed_dataset(x_train, window_size, batch_size, shuffle_buffer_size)\n",
    "\n",
    "model = tf.keras.models.Sequential([\n",
    "  tf.keras.layers.Lambda(lambda x: tf.expand_dims(x, axis=-1),\n",
    "                      input_shape=[None]),\n",
    "  tf.keras.layers.Bidirectional(tf.keras.layers.LSTM(32, return_sequences=True)),\n",
    "  tf.keras.layers.Bidirectional(tf.keras.layers.LSTM(32)),\n",
    "  tf.keras.layers.Dense(1),\n",
    "  tf.keras.layers.Lambda(lambda x: x * 100.0)\n",
    "])\n",
    "\n",
    "\n",
    "model.compile(loss=\"mse\", optimizer=tf.keras.optimizers.SGD(lr=1e-6, momentum=0.9))\n",
    "model.fit(dataset,epochs=100, verbose=0)"
   ]
  },
  {
   "cell_type": "code",
   "execution_count": 22,
   "metadata": {
    "scrolled": false
   },
   "outputs": [
    {
     "name": "stdout",
     "output_type": "stream",
     "text": [
      "Epoch 1/100\n",
      "31/31 [==============================] - 1s 20ms/step - loss: 755.7013\n",
      "Epoch 2/100\n",
      "31/31 [==============================] - 1s 20ms/step - loss: 152.7785\n",
      "Epoch 3/100\n",
      "31/31 [==============================] - 1s 20ms/step - loss: 97.9761\n",
      "Epoch 4/100\n",
      "31/31 [==============================] - 1s 20ms/step - loss: 83.2915\n",
      "Epoch 5/100\n",
      "31/31 [==============================] - 1s 18ms/step - loss: 78.2600\n",
      "Epoch 6/100\n",
      "31/31 [==============================] - 1s 17ms/step - loss: 73.4347\n",
      "Epoch 7/100\n",
      "31/31 [==============================] - 1s 19ms/step - loss: 67.8632\n",
      "Epoch 8/100\n",
      "31/31 [==============================] - 1s 17ms/step - loss: 74.5354\n",
      "Epoch 9/100\n",
      "31/31 [==============================] - 1s 18ms/step - loss: 73.1458\n",
      "Epoch 10/100\n",
      "31/31 [==============================] - 1s 21ms/step - loss: 63.4809\n",
      "Epoch 11/100\n",
      "31/31 [==============================] - 1s 24ms/step - loss: 60.9757\n",
      "Epoch 12/100\n",
      "31/31 [==============================] - 1s 19ms/step - loss: 57.7044\n",
      "Epoch 13/100\n",
      "31/31 [==============================] - 1s 17ms/step - loss: 62.4454\n",
      "Epoch 14/100\n",
      "31/31 [==============================] - 1s 17ms/step - loss: 56.6497\n",
      "Epoch 15/100\n",
      "31/31 [==============================] - 1s 19ms/step - loss: 53.2329\n",
      "Epoch 16/100\n",
      "31/31 [==============================] - 1s 18ms/step - loss: 65.0537\n",
      "Epoch 17/100\n",
      "31/31 [==============================] - 1s 19ms/step - loss: 58.6710\n",
      "Epoch 18/100\n",
      "31/31 [==============================] - 1s 19ms/step - loss: 60.0726\n",
      "Epoch 19/100\n",
      "31/31 [==============================] - 1s 20ms/step - loss: 56.1999\n",
      "Epoch 20/100\n",
      "31/31 [==============================] - 1s 18ms/step - loss: 55.7786\n",
      "Epoch 21/100\n",
      "31/31 [==============================] - 1s 17ms/step - loss: 51.2688\n",
      "Epoch 22/100\n",
      "31/31 [==============================] - 1s 17ms/step - loss: 54.9552\n",
      "Epoch 23/100\n",
      "31/31 [==============================] - 1s 19ms/step - loss: 51.5539\n",
      "Epoch 24/100\n",
      "31/31 [==============================] - 1s 18ms/step - loss: 55.4753\n",
      "Epoch 25/100\n",
      "31/31 [==============================] - 1s 19ms/step - loss: 48.4559\n",
      "Epoch 26/100\n",
      "31/31 [==============================] - 1s 19ms/step - loss: 54.2121\n",
      "Epoch 27/100\n",
      "31/31 [==============================] - 1s 20ms/step - loss: 54.4619\n",
      "Epoch 28/100\n",
      "31/31 [==============================] - 1s 18ms/step - loss: 54.1912\n",
      "Epoch 29/100\n",
      "31/31 [==============================] - 1s 17ms/step - loss: 48.2903\n",
      "Epoch 30/100\n",
      "31/31 [==============================] - 1s 17ms/step - loss: 49.6825\n",
      "Epoch 31/100\n",
      "31/31 [==============================] - 1s 19ms/step - loss: 53.0422\n",
      "Epoch 32/100\n",
      "31/31 [==============================] - 1s 18ms/step - loss: 56.4042\n",
      "Epoch 33/100\n",
      "31/31 [==============================] - 1s 18ms/step - loss: 47.9185\n",
      "Epoch 34/100\n",
      "31/31 [==============================] - 1s 19ms/step - loss: 50.2060\n",
      "Epoch 35/100\n",
      "31/31 [==============================] - 1s 19ms/step - loss: 48.2373\n",
      "Epoch 36/100\n",
      "31/31 [==============================] - 1s 18ms/step - loss: 47.5874\n",
      "Epoch 37/100\n",
      "31/31 [==============================] - 1s 17ms/step - loss: 53.0302 0s - loss: 53.03\n",
      "Epoch 38/100\n",
      "31/31 [==============================] - 1s 18ms/step - loss: 47.7121\n",
      "Epoch 39/100\n",
      "31/31 [==============================] - 1s 19ms/step - loss: 47.2859\n",
      "Epoch 40/100\n",
      "31/31 [==============================] - 1s 18ms/step - loss: 48.6493\n",
      "Epoch 41/100\n",
      "31/31 [==============================] - 1s 19ms/step - loss: 46.0403\n",
      "Epoch 42/100\n",
      "31/31 [==============================] - 1s 19ms/step - loss: 49.4847\n",
      "Epoch 43/100\n",
      "31/31 [==============================] - 1s 19ms/step - loss: 48.2804\n",
      "Epoch 44/100\n",
      "31/31 [==============================] - 1s 18ms/step - loss: 51.2780\n",
      "Epoch 45/100\n",
      "31/31 [==============================] - 1s 17ms/step - loss: 48.2863\n",
      "Epoch 46/100\n",
      "31/31 [==============================] - 1s 17ms/step - loss: 51.8344\n",
      "Epoch 47/100\n",
      "31/31 [==============================] - 1s 18ms/step - loss: 49.9794\n",
      "Epoch 48/100\n",
      "31/31 [==============================] - 1s 18ms/step - loss: 45.3264\n",
      "Epoch 49/100\n",
      "31/31 [==============================] - 1s 18ms/step - loss: 45.0664\n",
      "Epoch 50/100\n",
      "31/31 [==============================] - 1s 19ms/step - loss: 45.8870\n",
      "Epoch 51/100\n",
      "31/31 [==============================] - 1s 19ms/step - loss: 49.2073\n",
      "Epoch 52/100\n",
      "31/31 [==============================] - 1s 18ms/step - loss: 50.4170\n",
      "Epoch 53/100\n",
      "31/31 [==============================] - 1s 20ms/step - loss: 50.7224\n",
      "Epoch 54/100\n",
      "31/31 [==============================] - 1s 19ms/step - loss: 44.6063\n",
      "Epoch 55/100\n",
      "31/31 [==============================] - 1s 20ms/step - loss: 47.2967\n",
      "Epoch 56/100\n",
      "31/31 [==============================] - 1s 18ms/step - loss: 46.8540\n",
      "Epoch 57/100\n",
      "31/31 [==============================] - 1s 19ms/step - loss: 46.1015\n",
      "Epoch 58/100\n",
      "31/31 [==============================] - 1s 19ms/step - loss: 45.2351\n",
      "Epoch 59/100\n",
      "31/31 [==============================] - 1s 20ms/step - loss: 45.4370\n",
      "Epoch 60/100\n",
      "31/31 [==============================] - 1s 18ms/step - loss: 46.3429\n",
      "Epoch 61/100\n",
      "31/31 [==============================] - 1s 18ms/step - loss: 46.9665\n",
      "Epoch 62/100\n",
      "31/31 [==============================] - 1s 18ms/step - loss: 46.5664\n",
      "Epoch 63/100\n",
      "31/31 [==============================] - 1s 21ms/step - loss: 45.2381\n",
      "Epoch 64/100\n",
      "31/31 [==============================] - 1s 19ms/step - loss: 45.0082\n",
      "Epoch 65/100\n",
      "31/31 [==============================] - 1s 19ms/step - loss: 44.2408\n",
      "Epoch 66/100\n",
      "31/31 [==============================] - 1s 19ms/step - loss: 43.7104\n",
      "Epoch 67/100\n",
      "31/31 [==============================] - 1s 21ms/step - loss: 44.6086\n",
      "Epoch 68/100\n",
      "31/31 [==============================] - 1s 18ms/step - loss: 48.9862\n",
      "Epoch 69/100\n",
      "31/31 [==============================] - 1s 18ms/step - loss: 49.3742\n",
      "Epoch 70/100\n",
      "31/31 [==============================] - 1s 17ms/step - loss: 48.0163\n",
      "Epoch 71/100\n",
      "31/31 [==============================] - 1s 20ms/step - loss: 43.7251\n",
      "Epoch 72/100\n",
      "31/31 [==============================] - 1s 18ms/step - loss: 46.3182\n",
      "Epoch 73/100\n",
      "31/31 [==============================] - 1s 19ms/step - loss: 45.2350\n",
      "Epoch 74/100\n",
      "31/31 [==============================] - 1s 18ms/step - loss: 43.9390\n",
      "Epoch 75/100\n",
      "31/31 [==============================] - 1s 21ms/step - loss: 45.4765\n",
      "Epoch 76/100\n",
      "31/31 [==============================] - 1s 18ms/step - loss: 46.1003\n",
      "Epoch 77/100\n",
      "31/31 [==============================] - 1s 18ms/step - loss: 45.5499\n",
      "Epoch 78/100\n",
      "31/31 [==============================] - 1s 17ms/step - loss: 44.7749\n",
      "Epoch 79/100\n",
      "31/31 [==============================] - 1s 20ms/step - loss: 44.7591\n",
      "Epoch 80/100\n",
      "31/31 [==============================] - 1s 18ms/step - loss: 51.3417\n",
      "Epoch 81/100\n",
      "31/31 [==============================] - 1s 19ms/step - loss: 53.4107\n",
      "Epoch 82/100\n",
      "31/31 [==============================] - 1s 19ms/step - loss: 45.4838\n",
      "Epoch 83/100\n",
      "31/31 [==============================] - 1s 21ms/step - loss: 45.8837\n",
      "Epoch 84/100\n",
      "31/31 [==============================] - 1s 18ms/step - loss: 46.3762\n",
      "Epoch 85/100\n",
      "31/31 [==============================] - 1s 17ms/step - loss: 44.9510\n",
      "Epoch 86/100\n",
      "31/31 [==============================] - 1s 19ms/step - loss: 43.7665\n",
      "Epoch 87/100\n",
      "31/31 [==============================] - 1s 20ms/step - loss: 51.7506\n",
      "Epoch 88/100\n",
      "31/31 [==============================] - 1s 19ms/step - loss: 46.2335\n",
      "Epoch 89/100\n",
      "31/31 [==============================] - 1s 19ms/step - loss: 48.7304\n",
      "Epoch 90/100\n",
      "31/31 [==============================] - 1s 18ms/step - loss: 45.3579\n",
      "Epoch 91/100\n",
      "31/31 [==============================] - 1s 20ms/step - loss: 53.3695\n",
      "Epoch 92/100\n",
      "31/31 [==============================] - 1s 18ms/step - loss: 44.1400\n",
      "Epoch 93/100\n",
      "31/31 [==============================] - 1s 18ms/step - loss: 43.6139\n",
      "Epoch 94/100\n",
      "31/31 [==============================] - 1s 19ms/step - loss: 46.2337\n",
      "Epoch 95/100\n",
      "31/31 [==============================] - 1s 19ms/step - loss: 44.8032\n",
      "Epoch 96/100\n",
      "31/31 [==============================] - 1s 20ms/step - loss: 44.4876\n",
      "Epoch 97/100\n",
      "31/31 [==============================] - 1s 19ms/step - loss: 44.1544\n",
      "Epoch 98/100\n",
      "31/31 [==============================] - 1s 21ms/step - loss: 44.8083\n",
      "Epoch 99/100\n"
     ]
    },
    {
     "name": "stdout",
     "output_type": "stream",
     "text": [
      "31/31 [==============================] - 1s 20ms/step - loss: 45.3499\n",
      "Epoch 100/100\n",
      "31/31 [==============================] - 1s 18ms/step - loss: 46.9555\n"
     ]
    },
    {
     "data": {
      "text/plain": [
       "<tensorflow.python.keras.callbacks.History at 0x2b83edd4460>"
      ]
     },
     "execution_count": 22,
     "metadata": {},
     "output_type": "execute_result"
    }
   ],
   "source": [
    "tf.keras.backend.clear_session()\n",
    "dataset = windowed_dataset(x_train, window_size, batch_size, shuffle_buffer_size)\n",
    "\n",
    "model = tf.keras.models.Sequential([\n",
    "  tf.keras.layers.Lambda(lambda x: tf.expand_dims(x, axis=-1),\n",
    "                      input_shape=[None]),\n",
    "  tf.keras.layers.Bidirectional(tf.keras.layers.LSTM(32, return_sequences=True)),\n",
    "  tf.keras.layers.Bidirectional(tf.keras.layers.LSTM(32, return_sequences=True)),\n",
    "  tf.keras.layers.Bidirectional(tf.keras.layers.LSTM(32)),\n",
    "  tf.keras.layers.Dense(1),\n",
    "  tf.keras.layers.Lambda(lambda x: x * 100.0)\n",
    "])\n",
    "\n",
    "\n",
    "model.compile(loss=\"mse\", optimizer=tf.keras.optimizers.SGD(lr=1e-6, momentum=0.9))\n",
    "model.fit(dataset,epochs=100)"
   ]
  },
  {
   "cell_type": "code",
   "execution_count": null,
   "metadata": {},
   "outputs": [],
   "source": []
  }
 ],
 "metadata": {
  "kernelspec": {
   "display_name": "Python 3",
   "language": "python",
   "name": "python3"
  },
  "language_info": {
   "codemirror_mode": {
    "name": "ipython",
    "version": 3
   },
   "file_extension": ".py",
   "mimetype": "text/x-python",
   "name": "python",
   "nbconvert_exporter": "python",
   "pygments_lexer": "ipython3",
   "version": "3.8.3"
  }
 },
 "nbformat": 4,
 "nbformat_minor": 4
}
